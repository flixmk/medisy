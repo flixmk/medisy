{
 "cells": [
  {
   "cell_type": "code",
   "execution_count": 7,
   "metadata": {},
   "outputs": [],
   "source": [
    "import os\n",
    "import torch\n",
    "from torchvision.datasets import ImageFolder\n",
    "from torch.utils.data import Dataset\n",
    "from collections import defaultdict\n",
    "\n",
    "class BalancedImageFolder(Dataset):\n",
    "    def __init__(self, root_dir, transform=None, n_images_per_class=None):\n",
    "        self.root_dir = root_dir\n",
    "        self.transform = transform\n",
    "\n",
    "        # Load initial dataset\n",
    "        self.full_dataset = ImageFolder(root=self.root_dir, transform=self.transform)\n",
    "\n",
    "        # Create a dict to store the indices for each class\n",
    "        self.class_indices = defaultdict(list)\n",
    "        for idx, (_, class_label) in enumerate(self.full_dataset.imgs):\n",
    "            self.class_indices[class_label].append(idx)\n",
    "\n",
    "        # Balance the dataset\n",
    "        self.filtered_indices = []\n",
    "        if n_images_per_class is not None:\n",
    "            for class_label, indices in self.class_indices.items():\n",
    "                self.filtered_indices.extend(indices[:n_images_per_class])\n",
    "        else:\n",
    "            self.filtered_indices = list(range(len(self.full_dataset)))\n",
    "\n",
    "    def __len__(self):\n",
    "        return len(self.filtered_indices)\n",
    "\n",
    "    def __getitem__(self, index):\n",
    "        original_idx = self.filtered_indices[index]\n",
    "        img, label = self.full_dataset[original_idx]\n",
    "        return img, label\n",
    "\n",
    "\n"
   ]
  },
  {
   "cell_type": "code",
   "execution_count": 9,
   "metadata": {},
   "outputs": [
    {
     "name": "stderr",
     "output_type": "stream",
     "text": [
      "100%|██████████| 125/125 [00:04<00:00, 26.73it/s]"
     ]
    },
    {
     "name": "stdout",
     "output_type": "stream",
     "text": [
      "Calculated mean: [0.19196127 0.19196127 0.19196127]\n",
      "Calculated std: [0.19903535 0.19903535 0.19903535]\n"
     ]
    },
    {
     "name": "stderr",
     "output_type": "stream",
     "text": [
      "\n"
     ]
    }
   ],
   "source": [
    "import os\n",
    "import torch\n",
    "from torchvision import datasets, transforms\n",
    "from torch.utils.data import DataLoader\n",
    "import numpy as np\n",
    "from tqdm import tqdm\n",
    "\n",
    "def calculate_mean_and_std(folder_path, batch_size=32):\n",
    "    transform = transforms.Compose([\n",
    "        transforms.ToTensor(),\n",
    "    ])\n",
    "\n",
    "    dataset = BalancedImageFolder(folder_path, transform=transform, n_images_per_class=1000)\n",
    "    loader = DataLoader(dataset, batch_size=batch_size, shuffle=False, num_workers=4)\n",
    "\n",
    "    mean = 0.0\n",
    "    std = 0.0\n",
    "    nb_samples = 0\n",
    "\n",
    "    for data, _ in tqdm(loader):\n",
    "        batch_samples = data.size(0)\n",
    "        data = data.view(batch_samples, data.size(1), -1)\n",
    "        mean += data.mean(2).sum(0)\n",
    "        std += data.std(2).sum(0)\n",
    "        nb_samples += batch_samples\n",
    "\n",
    "    mean /= nb_samples\n",
    "    std /= nb_samples\n",
    "\n",
    "    return mean.numpy(), std.numpy()\n",
    "\n",
    "folder_path = \"/home/flix/Documents/Datasets/OCT_Dataset_Masterthesis/CellData/OCT_resized/val\"  # replace with your folder path\n",
    "mean, std = calculate_mean_and_std(folder_path)\n",
    "print(f\"Calculated mean: {mean}\")\n",
    "print(f\"Calculated std: {std}\")\n"
   ]
  },
  {
   "cell_type": "code",
   "execution_count": 10,
   "metadata": {},
   "outputs": [
    {
     "name": "stderr",
     "output_type": "stream",
     "text": [
      "100%|██████████| 125/125 [00:04<00:00, 27.14it/s]"
     ]
    },
    {
     "name": "stdout",
     "output_type": "stream",
     "text": [
      "Calculated mean: [0.16797477 0.16927803 0.16864358]\n",
      "Calculated std: [0.16557804 0.1659938  0.16580833]\n"
     ]
    },
    {
     "name": "stderr",
     "output_type": "stream",
     "text": [
      "\n"
     ]
    }
   ],
   "source": [
    "folder_path = '/home/flix/Downloads/slow_dataset_v2 (2)/slow_dataset_v2'  # replace with your folder path\n",
    "mean, std = calculate_mean_and_std(folder_path)\n",
    "print(f\"Calculated mean: {mean}\")\n",
    "print(f\"Calculated std: {std}\")"
   ]
  },
  {
   "cell_type": "code",
   "execution_count": null,
   "metadata": {},
   "outputs": [],
   "source": []
  }
 ],
 "metadata": {
  "kernelspec": {
   "display_name": "xformers",
   "language": "python",
   "name": "python3"
  },
  "language_info": {
   "codemirror_mode": {
    "name": "ipython",
    "version": 3
   },
   "file_extension": ".py",
   "mimetype": "text/x-python",
   "name": "python",
   "nbconvert_exporter": "python",
   "pygments_lexer": "ipython3",
   "version": "3.8.10"
  }
 },
 "nbformat": 4,
 "nbformat_minor": 2
}
